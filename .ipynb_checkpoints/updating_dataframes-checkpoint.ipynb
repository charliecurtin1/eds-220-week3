{
 "cells": [
  {
   "cell_type": "markdown",
   "id": "c005f512-fef6-4c6d-b30f-b721802530ab",
   "metadata": {},
   "source": [
    "## Updating data frames\n",
    "\n",
    "## Data: palmer penguins"
   ]
  },
  {
   "cell_type": "code",
   "execution_count": 2,
   "id": "823d9ffd-6ea1-4d08-8162-f1a96febb143",
   "metadata": {
    "tags": []
   },
   "outputs": [],
   "source": [
    "# import libraries\n",
    "import pandas as pd\n",
    "import numpy as np\n",
    "\n",
    "# import seaborn with its standard abbreviation\n",
    "import seaborn as sns\n",
    "\n",
    "# will use the random library to create some random numbers\n",
    "import random"
   ]
  },
  {
   "cell_type": "code",
   "execution_count": 4,
   "id": "43c2d275-56e3-420e-8740-d31b3169fa35",
   "metadata": {
    "tags": []
   },
   "outputs": [
    {
     "data": {
      "text/html": [
       "<div>\n",
       "<style scoped>\n",
       "    .dataframe tbody tr th:only-of-type {\n",
       "        vertical-align: middle;\n",
       "    }\n",
       "\n",
       "    .dataframe tbody tr th {\n",
       "        vertical-align: top;\n",
       "    }\n",
       "\n",
       "    .dataframe thead th {\n",
       "        text-align: right;\n",
       "    }\n",
       "</style>\n",
       "<table border=\"1\" class=\"dataframe\">\n",
       "  <thead>\n",
       "    <tr style=\"text-align: right;\">\n",
       "      <th></th>\n",
       "      <th>species</th>\n",
       "      <th>island</th>\n",
       "      <th>bill_length_mm</th>\n",
       "      <th>bill_depth_mm</th>\n",
       "      <th>flipper_length_mm</th>\n",
       "      <th>body_mass_g</th>\n",
       "      <th>sex</th>\n",
       "    </tr>\n",
       "  </thead>\n",
       "  <tbody>\n",
       "    <tr>\n",
       "      <th>0</th>\n",
       "      <td>Adelie</td>\n",
       "      <td>Torgersen</td>\n",
       "      <td>39.1</td>\n",
       "      <td>18.7</td>\n",
       "      <td>181.0</td>\n",
       "      <td>3750.0</td>\n",
       "      <td>Male</td>\n",
       "    </tr>\n",
       "    <tr>\n",
       "      <th>1</th>\n",
       "      <td>Adelie</td>\n",
       "      <td>Torgersen</td>\n",
       "      <td>39.5</td>\n",
       "      <td>17.4</td>\n",
       "      <td>186.0</td>\n",
       "      <td>3800.0</td>\n",
       "      <td>Female</td>\n",
       "    </tr>\n",
       "    <tr>\n",
       "      <th>2</th>\n",
       "      <td>Adelie</td>\n",
       "      <td>Torgersen</td>\n",
       "      <td>40.3</td>\n",
       "      <td>18.0</td>\n",
       "      <td>195.0</td>\n",
       "      <td>3250.0</td>\n",
       "      <td>Female</td>\n",
       "    </tr>\n",
       "    <tr>\n",
       "      <th>3</th>\n",
       "      <td>Adelie</td>\n",
       "      <td>Torgersen</td>\n",
       "      <td>NaN</td>\n",
       "      <td>NaN</td>\n",
       "      <td>NaN</td>\n",
       "      <td>NaN</td>\n",
       "      <td>NaN</td>\n",
       "    </tr>\n",
       "    <tr>\n",
       "      <th>4</th>\n",
       "      <td>Adelie</td>\n",
       "      <td>Torgersen</td>\n",
       "      <td>36.7</td>\n",
       "      <td>19.3</td>\n",
       "      <td>193.0</td>\n",
       "      <td>3450.0</td>\n",
       "      <td>Female</td>\n",
       "    </tr>\n",
       "  </tbody>\n",
       "</table>\n",
       "</div>"
      ],
      "text/plain": [
       "  species     island  bill_length_mm  bill_depth_mm  flipper_length_mm  \\\n",
       "0  Adelie  Torgersen            39.1           18.7              181.0   \n",
       "1  Adelie  Torgersen            39.5           17.4              186.0   \n",
       "2  Adelie  Torgersen            40.3           18.0              195.0   \n",
       "3  Adelie  Torgersen             NaN            NaN                NaN   \n",
       "4  Adelie  Torgersen            36.7           19.3              193.0   \n",
       "\n",
       "   body_mass_g     sex  \n",
       "0       3750.0    Male  \n",
       "1       3800.0  Female  \n",
       "2       3250.0  Female  \n",
       "3          NaN     NaN  \n",
       "4       3450.0  Female  "
      ]
     },
     "execution_count": 4,
     "metadata": {},
     "output_type": "execute_result"
    }
   ],
   "source": [
    "# import data from seaborn\n",
    "penguins = sns.load_dataset('penguins')\n",
    "\n",
    "# \n",
    "penguins.head()"
   ]
  },
  {
   "cell_type": "markdown",
   "id": "c70987e1-b956-4dc7-82c3-997cec50015a",
   "metadata": {},
   "source": [
    "## adding a column\n",
    "\n",
    "General syntax to add a single column is the following\n",
    "```\n",
    "df['new_col_name'] = new_col_values\n",
    "```\n",
    "- new values could be a Pandas series, a numpy array, but must the same length as the data frame\n",
    "- a single number or a single string\n",
    "\n",
    "Example: create a new column where body mass is in kg instead of grams"
   ]
  },
  {
   "cell_type": "code",
   "execution_count": 10,
   "id": "cd9dfc01-3b39-432d-af96-1f55b3bb16a9",
   "metadata": {
    "tags": []
   },
   "outputs": [
    {
     "name": "stdout",
     "output_type": "stream",
     "text": [
      "True\n"
     ]
    }
   ],
   "source": [
    "penguins['body_mass_kg'] = penguins.body_mass_g/1000\n",
    "\n",
    "\n",
    "print('body_mass_kg' in penguins.columns)"
   ]
  },
  {
   "cell_type": "markdown",
   "id": "70e3d690-aff9-4c65-a054-7e3db262e378",
   "metadata": {},
   "source": [
    "to create a new column and insert it at a particular position we use insert():\n",
    "```\n",
    "df.insert(loc = integers_index,\n",
    "        column = new_col_name,\n",
    "        value = new_col_values)\n",
    "```\n",
    "Example- suppose each penguin gets a unique code as a 3 digit number. Add this column at the beginning of the data frame"
   ]
  },
  {
   "cell_type": "code",
   "execution_count": 12,
   "id": "320077a1-3647-4b4d-adf9-b8fd42c0e6dc",
   "metadata": {
    "tags": []
   },
   "outputs": [],
   "source": [
    "# create random 3-digit codes\n",
    "# sample is without replacement\n",
    "codes = random.sample(range(100,1000), len(penguins))\n",
    "\n",
    "# add the codes as a column\n",
    "# works inplace, so you don't need to reassign\n",
    "penguins.insert(loc = 0,\n",
    "               column = \"code\",\n",
    "               value = codes)"
   ]
  },
  {
   "cell_type": "code",
   "execution_count": 13,
   "id": "6f6131ae-b394-45fa-83dc-4c9bfeca2f68",
   "metadata": {
    "tags": []
   },
   "outputs": [
    {
     "data": {
      "text/html": [
       "<div>\n",
       "<style scoped>\n",
       "    .dataframe tbody tr th:only-of-type {\n",
       "        vertical-align: middle;\n",
       "    }\n",
       "\n",
       "    .dataframe tbody tr th {\n",
       "        vertical-align: top;\n",
       "    }\n",
       "\n",
       "    .dataframe thead th {\n",
       "        text-align: right;\n",
       "    }\n",
       "</style>\n",
       "<table border=\"1\" class=\"dataframe\">\n",
       "  <thead>\n",
       "    <tr style=\"text-align: right;\">\n",
       "      <th></th>\n",
       "      <th>code</th>\n",
       "      <th>species</th>\n",
       "      <th>island</th>\n",
       "      <th>bill_length_mm</th>\n",
       "      <th>bill_depth_mm</th>\n",
       "      <th>flipper_length_mm</th>\n",
       "      <th>body_mass_g</th>\n",
       "      <th>sex</th>\n",
       "      <th>body_mass_kg</th>\n",
       "    </tr>\n",
       "  </thead>\n",
       "  <tbody>\n",
       "    <tr>\n",
       "      <th>0</th>\n",
       "      <td>552</td>\n",
       "      <td>Adelie</td>\n",
       "      <td>Torgersen</td>\n",
       "      <td>39.1</td>\n",
       "      <td>18.7</td>\n",
       "      <td>181.0</td>\n",
       "      <td>3750.0</td>\n",
       "      <td>Male</td>\n",
       "      <td>3.75</td>\n",
       "    </tr>\n",
       "    <tr>\n",
       "      <th>1</th>\n",
       "      <td>374</td>\n",
       "      <td>Adelie</td>\n",
       "      <td>Torgersen</td>\n",
       "      <td>39.5</td>\n",
       "      <td>17.4</td>\n",
       "      <td>186.0</td>\n",
       "      <td>3800.0</td>\n",
       "      <td>Female</td>\n",
       "      <td>3.80</td>\n",
       "    </tr>\n",
       "    <tr>\n",
       "      <th>2</th>\n",
       "      <td>957</td>\n",
       "      <td>Adelie</td>\n",
       "      <td>Torgersen</td>\n",
       "      <td>40.3</td>\n",
       "      <td>18.0</td>\n",
       "      <td>195.0</td>\n",
       "      <td>3250.0</td>\n",
       "      <td>Female</td>\n",
       "      <td>3.25</td>\n",
       "    </tr>\n",
       "    <tr>\n",
       "      <th>3</th>\n",
       "      <td>235</td>\n",
       "      <td>Adelie</td>\n",
       "      <td>Torgersen</td>\n",
       "      <td>NaN</td>\n",
       "      <td>NaN</td>\n",
       "      <td>NaN</td>\n",
       "      <td>NaN</td>\n",
       "      <td>NaN</td>\n",
       "      <td>NaN</td>\n",
       "    </tr>\n",
       "    <tr>\n",
       "      <th>4</th>\n",
       "      <td>902</td>\n",
       "      <td>Adelie</td>\n",
       "      <td>Torgersen</td>\n",
       "      <td>36.7</td>\n",
       "      <td>19.3</td>\n",
       "      <td>193.0</td>\n",
       "      <td>3450.0</td>\n",
       "      <td>Female</td>\n",
       "      <td>3.45</td>\n",
       "    </tr>\n",
       "  </tbody>\n",
       "</table>\n",
       "</div>"
      ],
      "text/plain": [
       "   code species     island  bill_length_mm  bill_depth_mm  flipper_length_mm  \\\n",
       "0   552  Adelie  Torgersen            39.1           18.7              181.0   \n",
       "1   374  Adelie  Torgersen            39.5           17.4              186.0   \n",
       "2   957  Adelie  Torgersen            40.3           18.0              195.0   \n",
       "3   235  Adelie  Torgersen             NaN            NaN                NaN   \n",
       "4   902  Adelie  Torgersen            36.7           19.3              193.0   \n",
       "\n",
       "   body_mass_g     sex  body_mass_kg  \n",
       "0       3750.0    Male          3.75  \n",
       "1       3800.0  Female          3.80  \n",
       "2       3250.0  Female          3.25  \n",
       "3          NaN     NaN           NaN  \n",
       "4       3450.0  Female          3.45  "
      ]
     },
     "execution_count": 13,
     "metadata": {},
     "output_type": "execute_result"
    }
   ],
   "source": [
    "penguins.head()"
   ]
  },
  {
   "cell_type": "markdown",
   "id": "308c49ad-ba1a-46ac-aa1e-874804d4d793",
   "metadata": {},
   "source": [
    "What happens if we reassign with insert? tip - don't do this"
   ]
  },
  {
   "cell_type": "markdown",
   "id": "25ea2fe7-1327-46f8-9463-5900f8b878b0",
   "metadata": {},
   "source": [
    "## adding multiples columns\n",
    "We can assign multiple columns in the same call using assign()\n",
    "```\n",
    "df.assign(new_col1_name = new_col1_values,\n",
    "           new_col2_name = new_col2_values)\n",
    "```\n",
    "Example:\n",
    "add columns:\n",
    "- flipper length converted from mm to cm\n",
    "- a code representing the observer"
   ]
  },
  {
   "cell_type": "code",
   "execution_count": 15,
   "id": "821fd58f-944f-480d-97b0-7d5436e20561",
   "metadata": {
    "tags": []
   },
   "outputs": [
    {
     "data": {
      "text/html": [
       "<div>\n",
       "<style scoped>\n",
       "    .dataframe tbody tr th:only-of-type {\n",
       "        vertical-align: middle;\n",
       "    }\n",
       "\n",
       "    .dataframe tbody tr th {\n",
       "        vertical-align: top;\n",
       "    }\n",
       "\n",
       "    .dataframe thead th {\n",
       "        text-align: right;\n",
       "    }\n",
       "</style>\n",
       "<table border=\"1\" class=\"dataframe\">\n",
       "  <thead>\n",
       "    <tr style=\"text-align: right;\">\n",
       "      <th></th>\n",
       "      <th>code</th>\n",
       "      <th>species</th>\n",
       "      <th>island</th>\n",
       "      <th>bill_length_mm</th>\n",
       "      <th>bill_depth_mm</th>\n",
       "      <th>flipper_length_mm</th>\n",
       "      <th>body_mass_g</th>\n",
       "      <th>sex</th>\n",
       "      <th>body_mass_kg</th>\n",
       "      <th>flipper_length_cm</th>\n",
       "      <th>observer</th>\n",
       "    </tr>\n",
       "  </thead>\n",
       "  <tbody>\n",
       "    <tr>\n",
       "      <th>0</th>\n",
       "      <td>552</td>\n",
       "      <td>Adelie</td>\n",
       "      <td>Torgersen</td>\n",
       "      <td>39.1</td>\n",
       "      <td>18.7</td>\n",
       "      <td>181.0</td>\n",
       "      <td>3750.0</td>\n",
       "      <td>Male</td>\n",
       "      <td>3.75</td>\n",
       "      <td>18.1</td>\n",
       "      <td>C</td>\n",
       "    </tr>\n",
       "    <tr>\n",
       "      <th>1</th>\n",
       "      <td>374</td>\n",
       "      <td>Adelie</td>\n",
       "      <td>Torgersen</td>\n",
       "      <td>39.5</td>\n",
       "      <td>17.4</td>\n",
       "      <td>186.0</td>\n",
       "      <td>3800.0</td>\n",
       "      <td>Female</td>\n",
       "      <td>3.80</td>\n",
       "      <td>18.6</td>\n",
       "      <td>B</td>\n",
       "    </tr>\n",
       "    <tr>\n",
       "      <th>2</th>\n",
       "      <td>957</td>\n",
       "      <td>Adelie</td>\n",
       "      <td>Torgersen</td>\n",
       "      <td>40.3</td>\n",
       "      <td>18.0</td>\n",
       "      <td>195.0</td>\n",
       "      <td>3250.0</td>\n",
       "      <td>Female</td>\n",
       "      <td>3.25</td>\n",
       "      <td>19.5</td>\n",
       "      <td>A</td>\n",
       "    </tr>\n",
       "    <tr>\n",
       "      <th>3</th>\n",
       "      <td>235</td>\n",
       "      <td>Adelie</td>\n",
       "      <td>Torgersen</td>\n",
       "      <td>NaN</td>\n",
       "      <td>NaN</td>\n",
       "      <td>NaN</td>\n",
       "      <td>NaN</td>\n",
       "      <td>NaN</td>\n",
       "      <td>NaN</td>\n",
       "      <td>NaN</td>\n",
       "      <td>A</td>\n",
       "    </tr>\n",
       "    <tr>\n",
       "      <th>4</th>\n",
       "      <td>902</td>\n",
       "      <td>Adelie</td>\n",
       "      <td>Torgersen</td>\n",
       "      <td>36.7</td>\n",
       "      <td>19.3</td>\n",
       "      <td>193.0</td>\n",
       "      <td>3450.0</td>\n",
       "      <td>Female</td>\n",
       "      <td>3.45</td>\n",
       "      <td>19.3</td>\n",
       "      <td>B</td>\n",
       "    </tr>\n",
       "  </tbody>\n",
       "</table>\n",
       "</div>"
      ],
      "text/plain": [
       "   code species     island  bill_length_mm  bill_depth_mm  flipper_length_mm  \\\n",
       "0   552  Adelie  Torgersen            39.1           18.7              181.0   \n",
       "1   374  Adelie  Torgersen            39.5           17.4              186.0   \n",
       "2   957  Adelie  Torgersen            40.3           18.0              195.0   \n",
       "3   235  Adelie  Torgersen             NaN            NaN                NaN   \n",
       "4   902  Adelie  Torgersen            36.7           19.3              193.0   \n",
       "\n",
       "   body_mass_g     sex  body_mass_kg  flipper_length_cm observer  \n",
       "0       3750.0    Male          3.75               18.1        C  \n",
       "1       3800.0  Female          3.80               18.6        B  \n",
       "2       3250.0  Female          3.25               19.5        A  \n",
       "3          NaN     NaN           NaN                NaN        A  \n",
       "4       3450.0  Female          3.45               19.3        B  "
      ]
     },
     "execution_count": 15,
     "metadata": {},
     "output_type": "execute_result"
    }
   ],
   "source": [
    "# create codes for observers\n",
    "observers = random.choices(['A', 'B', 'C'],\n",
    "                          k = len(penguins))\n",
    "\n",
    "penguins = penguins.assign(flipper_length_cm = penguins.flipper_length_mm/10,\n",
    "                          observer = observers)\n",
    "\n",
    "penguins.head()"
   ]
  },
  {
   "cell_type": "markdown",
   "id": "e039aeb8-3bb5-42a9-b36f-b836cf06c576",
   "metadata": {},
   "source": [
    "## Remove columns\n",
    "\n",
    "remove columns using `drop()`\n",
    "```\n",
    "df = df.drop(columns = col.names)\n",
    "```\n",
    "where 'col_names' can be a single column or a list of column names\n",
    "\n",
    "Example:\n",
    "We want to drop the flipper length in mm and the body mass in grams"
   ]
  },
  {
   "cell_type": "code",
   "execution_count": 18,
   "id": "a74344d4-dd2c-4c22-84db-943f97186cbe",
   "metadata": {
    "tags": []
   },
   "outputs": [],
   "source": [
    "penguins = penguins.drop(columns = ['flipper_length_mm', 'body_mass_g'])"
   ]
  },
  {
   "cell_type": "markdown",
   "id": "5378c2a1-107c-414e-ac77-5512a649e49b",
   "metadata": {},
   "source": [
    "## updating values\n",
    "\n",
    "### a single value\n",
    "We can access a single value in a `pd.DataFrame`"
   ]
  },
  {
   "cell_type": "code",
   "execution_count": 19,
   "id": "7bbeed4d-0488-472a-8ce3-0a41e6497160",
   "metadata": {
    "tags": []
   },
   "outputs": [
    {
     "data": {
      "text/plain": [
       "nan"
      ]
     },
     "execution_count": 19,
     "metadata": {},
     "output_type": "execute_result"
    }
   ],
   "source": [
    "# bill length of a penguin in the fourth row\n",
    "penguins.at[3, 'bill_length_mm']"
   ]
  },
  {
   "cell_type": "markdown",
   "id": "3f42a53e-d2a1-4170-be7f-6bbea49f51d7",
   "metadata": {},
   "source": [
    "We got an NA, so lets update it to 38.3 mm. We do this using at[] also"
   ]
  },
  {
   "cell_type": "code",
   "execution_count": 22,
   "id": "b3e2c5d0-498b-407f-b151-ae9f44108826",
   "metadata": {
    "tags": []
   },
   "outputs": [],
   "source": [
    "penguins.at[3, 'bill_length_mm'] = 38.3"
   ]
  },
  {
   "cell_type": "code",
   "execution_count": null,
   "id": "f2318046-ea92-4ec5-8c4f-7ab68e65e19b",
   "metadata": {},
   "outputs": [],
   "source": [
    "# using iat, where you use index instead of column name\n",
    "penguins.iat[1, 0] = 999"
   ]
  },
  {
   "cell_type": "markdown",
   "id": "75025e9f-d132-4409-b314-64261686efcb",
   "metadata": {},
   "source": [
    "## Updating multiple values in a column\n",
    "\n",
    "### by condition\n",
    "Think of `case_when` in R.\n",
    "\n",
    "example:\n",
    "we want to classify penguins such that:\n",
    "\n",
    "- small penguins: body mass <  3 kg\n",
    "- medium penguins: 3 kg <= body mass < 5 kg\n",
    "- big penguins: body mass > 5 kg\n",
    "\n",
    "Using `numpy.select()` to create a new column "
   ]
  },
  {
   "cell_type": "code",
   "execution_count": 24,
   "id": "0beb6ca1-c5b9-4f5d-95cf-026af7a0a1ec",
   "metadata": {
    "tags": []
   },
   "outputs": [
    {
     "data": {
      "text/html": [
       "<div>\n",
       "<style scoped>\n",
       "    .dataframe tbody tr th:only-of-type {\n",
       "        vertical-align: middle;\n",
       "    }\n",
       "\n",
       "    .dataframe tbody tr th {\n",
       "        vertical-align: top;\n",
       "    }\n",
       "\n",
       "    .dataframe thead th {\n",
       "        text-align: right;\n",
       "    }\n",
       "</style>\n",
       "<table border=\"1\" class=\"dataframe\">\n",
       "  <thead>\n",
       "    <tr style=\"text-align: right;\">\n",
       "      <th></th>\n",
       "      <th>code</th>\n",
       "      <th>species</th>\n",
       "      <th>island</th>\n",
       "      <th>bill_length_mm</th>\n",
       "      <th>bill_depth_mm</th>\n",
       "      <th>sex</th>\n",
       "      <th>body_mass_kg</th>\n",
       "      <th>flipper_length_cm</th>\n",
       "      <th>observer</th>\n",
       "      <th>size</th>\n",
       "    </tr>\n",
       "  </thead>\n",
       "  <tbody>\n",
       "    <tr>\n",
       "      <th>0</th>\n",
       "      <td>552</td>\n",
       "      <td>Adelie</td>\n",
       "      <td>Torgersen</td>\n",
       "      <td>39.1</td>\n",
       "      <td>18.7</td>\n",
       "      <td>Male</td>\n",
       "      <td>3.75</td>\n",
       "      <td>18.1</td>\n",
       "      <td>C</td>\n",
       "      <td>medium</td>\n",
       "    </tr>\n",
       "    <tr>\n",
       "      <th>1</th>\n",
       "      <td>374</td>\n",
       "      <td>Adelie</td>\n",
       "      <td>Torgersen</td>\n",
       "      <td>39.5</td>\n",
       "      <td>17.4</td>\n",
       "      <td>Female</td>\n",
       "      <td>3.80</td>\n",
       "      <td>18.6</td>\n",
       "      <td>B</td>\n",
       "      <td>medium</td>\n",
       "    </tr>\n",
       "    <tr>\n",
       "      <th>2</th>\n",
       "      <td>957</td>\n",
       "      <td>Adelie</td>\n",
       "      <td>Torgersen</td>\n",
       "      <td>40.3</td>\n",
       "      <td>18.0</td>\n",
       "      <td>Female</td>\n",
       "      <td>3.25</td>\n",
       "      <td>19.5</td>\n",
       "      <td>A</td>\n",
       "      <td>medium</td>\n",
       "    </tr>\n",
       "    <tr>\n",
       "      <th>3</th>\n",
       "      <td>235</td>\n",
       "      <td>Adelie</td>\n",
       "      <td>Torgersen</td>\n",
       "      <td>38.3</td>\n",
       "      <td>NaN</td>\n",
       "      <td>NaN</td>\n",
       "      <td>NaN</td>\n",
       "      <td>NaN</td>\n",
       "      <td>A</td>\n",
       "      <td>nan</td>\n",
       "    </tr>\n",
       "    <tr>\n",
       "      <th>4</th>\n",
       "      <td>902</td>\n",
       "      <td>Adelie</td>\n",
       "      <td>Torgersen</td>\n",
       "      <td>36.7</td>\n",
       "      <td>19.3</td>\n",
       "      <td>Female</td>\n",
       "      <td>3.45</td>\n",
       "      <td>19.3</td>\n",
       "      <td>B</td>\n",
       "      <td>medium</td>\n",
       "    </tr>\n",
       "    <tr>\n",
       "      <th>...</th>\n",
       "      <td>...</td>\n",
       "      <td>...</td>\n",
       "      <td>...</td>\n",
       "      <td>...</td>\n",
       "      <td>...</td>\n",
       "      <td>...</td>\n",
       "      <td>...</td>\n",
       "      <td>...</td>\n",
       "      <td>...</td>\n",
       "      <td>...</td>\n",
       "    </tr>\n",
       "    <tr>\n",
       "      <th>339</th>\n",
       "      <td>349</td>\n",
       "      <td>Gentoo</td>\n",
       "      <td>Biscoe</td>\n",
       "      <td>NaN</td>\n",
       "      <td>NaN</td>\n",
       "      <td>NaN</td>\n",
       "      <td>NaN</td>\n",
       "      <td>NaN</td>\n",
       "      <td>B</td>\n",
       "      <td>nan</td>\n",
       "    </tr>\n",
       "    <tr>\n",
       "      <th>340</th>\n",
       "      <td>449</td>\n",
       "      <td>Gentoo</td>\n",
       "      <td>Biscoe</td>\n",
       "      <td>46.8</td>\n",
       "      <td>14.3</td>\n",
       "      <td>Female</td>\n",
       "      <td>4.85</td>\n",
       "      <td>21.5</td>\n",
       "      <td>B</td>\n",
       "      <td>medium</td>\n",
       "    </tr>\n",
       "    <tr>\n",
       "      <th>341</th>\n",
       "      <td>511</td>\n",
       "      <td>Gentoo</td>\n",
       "      <td>Biscoe</td>\n",
       "      <td>50.4</td>\n",
       "      <td>15.7</td>\n",
       "      <td>Male</td>\n",
       "      <td>5.75</td>\n",
       "      <td>22.2</td>\n",
       "      <td>C</td>\n",
       "      <td>large</td>\n",
       "    </tr>\n",
       "    <tr>\n",
       "      <th>342</th>\n",
       "      <td>925</td>\n",
       "      <td>Gentoo</td>\n",
       "      <td>Biscoe</td>\n",
       "      <td>45.2</td>\n",
       "      <td>14.8</td>\n",
       "      <td>Female</td>\n",
       "      <td>5.20</td>\n",
       "      <td>21.2</td>\n",
       "      <td>C</td>\n",
       "      <td>large</td>\n",
       "    </tr>\n",
       "    <tr>\n",
       "      <th>343</th>\n",
       "      <td>163</td>\n",
       "      <td>Gentoo</td>\n",
       "      <td>Biscoe</td>\n",
       "      <td>49.9</td>\n",
       "      <td>16.1</td>\n",
       "      <td>Male</td>\n",
       "      <td>5.40</td>\n",
       "      <td>21.3</td>\n",
       "      <td>B</td>\n",
       "      <td>large</td>\n",
       "    </tr>\n",
       "  </tbody>\n",
       "</table>\n",
       "<p>344 rows × 10 columns</p>\n",
       "</div>"
      ],
      "text/plain": [
       "     code species     island  bill_length_mm  bill_depth_mm     sex  \\\n",
       "0     552  Adelie  Torgersen            39.1           18.7    Male   \n",
       "1     374  Adelie  Torgersen            39.5           17.4  Female   \n",
       "2     957  Adelie  Torgersen            40.3           18.0  Female   \n",
       "3     235  Adelie  Torgersen            38.3            NaN     NaN   \n",
       "4     902  Adelie  Torgersen            36.7           19.3  Female   \n",
       "..    ...     ...        ...             ...            ...     ...   \n",
       "339   349  Gentoo     Biscoe             NaN            NaN     NaN   \n",
       "340   449  Gentoo     Biscoe            46.8           14.3  Female   \n",
       "341   511  Gentoo     Biscoe            50.4           15.7    Male   \n",
       "342   925  Gentoo     Biscoe            45.2           14.8  Female   \n",
       "343   163  Gentoo     Biscoe            49.9           16.1    Male   \n",
       "\n",
       "     body_mass_kg  flipper_length_cm observer    size  \n",
       "0            3.75               18.1        C  medium  \n",
       "1            3.80               18.6        B  medium  \n",
       "2            3.25               19.5        A  medium  \n",
       "3             NaN                NaN        A     nan  \n",
       "4            3.45               19.3        B  medium  \n",
       "..            ...                ...      ...     ...  \n",
       "339           NaN                NaN        B     nan  \n",
       "340          4.85               21.5        B  medium  \n",
       "341          5.75               22.2        C   large  \n",
       "342          5.20               21.2        C   large  \n",
       "343          5.40               21.3        B   large  \n",
       "\n",
       "[344 rows x 10 columns]"
      ]
     },
     "execution_count": 24,
     "metadata": {},
     "output_type": "execute_result"
    }
   ],
   "source": [
    "# create a list with the conditions\n",
    "conditions = [penguins.body_mass_kg < 3,\n",
    "             (3 <= penguins.body_mass_kg) & (penguins.body_mass_kg < 5),\n",
    "             5<= penguins.body_mass_kg]\n",
    "\n",
    "# create a list with the choices\n",
    "choices = ['small',\n",
    "          'medium',\n",
    "          'large']\n",
    "\n",
    "# default = value for anything that doesn't satisfy the conditions\n",
    "penguins['size'] = np.select(conditions, choices, default = np.nan)\n",
    "\n",
    "penguins"
   ]
  },
  {
   "cell_type": "markdown",
   "id": "a20f87ff-bc52-4f6f-a763-ad6862339bbb",
   "metadata": {},
   "source": [
    "### update a column by selecting values\n",
    "\n",
    "Sometimes we just want to update a few values that satisfy a condition.\n",
    "We can do this by selecting using `loc` and then assigning a new value\n",
    "```\n",
    "# modifies in place\n",
    "df.loc[row_selection, col_name] = new_values\n",
    "```\n",
    "where\n",
    "\n",
    "- `row_selection` = rows we want to update,\n",
    "- `col_name` = a single column name,\n"
   ]
  },
  {
   "cell_type": "code",
   "execution_count": 27,
   "id": "889546ab-de50-4e67-9fc9-34e72046191d",
   "metadata": {
    "tags": []
   },
   "outputs": [
    {
     "data": {
      "text/plain": [
       "array(['M', 'Female', nan], dtype=object)"
      ]
     },
     "execution_count": 27,
     "metadata": {},
     "output_type": "execute_result"
    }
   ],
   "source": [
    "# change \"male\" in the sex column to M\n",
    "penguins.loc[penguins.sex == \"Male\", 'sex'] = \"M\"\n",
    "\n",
    "penguins.sex.unique()"
   ]
  },
  {
   "cell_type": "markdown",
   "id": "9565b3b0-e0b3-42fe-8cf2-35e6c2190b57",
   "metadata": {},
   "source": [
    "Something that won't work..."
   ]
  },
  {
   "cell_type": "code",
   "execution_count": 28,
   "id": "cc9580c7-3b9e-4452-8e75-1bc57742d0ae",
   "metadata": {
    "tags": []
   },
   "outputs": [
    {
     "name": "stderr",
     "output_type": "stream",
     "text": [
      "/tmp/ipykernel_8371/2057910192.py:1: SettingWithCopyWarning: \n",
      "A value is trying to be set on a copy of a slice from a DataFrame.\n",
      "Try using .loc[row_indexer,col_indexer] = value instead\n",
      "\n",
      "See the caveats in the documentation: https://pandas.pydata.org/pandas-docs/stable/user_guide/indexing.html#returning-a-view-versus-a-copy\n",
      "  penguins[penguins.sex == 'Female']['sex'] = 'F'\n"
     ]
    }
   ],
   "source": [
    "penguins[penguins.sex == 'Female']['sex'] = 'F'"
   ]
  },
  {
   "cell_type": "markdown",
   "id": "c24509bb-0126-47d9-af4d-d1734f3a5bee",
   "metadata": {},
   "source": [
    "When you select with chained indexing [][], instead of loc you get this warning"
   ]
  },
  {
   "cell_type": "markdown",
   "id": "71e88537-f6dc-47ff-aac1-95f73756c0f1",
   "metadata": {},
   "source": [
    "## Views and copies\n",
    "\n",
    "some `pandas` operations return a view of your data while others return a copy of your data.\n",
    "\n",
    "- **Views** are actual subsets of our original data. When updated, we're modifying the original data frame\n",
    "\n",
    "- **Copies** are unique objects, independent of our original data frame. When we update a copy we are not modifying the original dataframe\n",
    "\n",
    "Depending on what we're doing\n",
    "\n",
    "### Another `SettingWithCopyWarning`\n",
    "\n",
    "Another common situation when this warnng comes up is when we try updating a subset of our data frame already stored in a variable"
   ]
  },
  {
   "cell_type": "code",
   "execution_count": 29,
   "id": "c7fbf238-3bcd-4c7e-9b00-bffc627e0e98",
   "metadata": {
    "tags": []
   },
   "outputs": [
    {
     "ename": "SyntaxError",
     "evalue": "invalid syntax (3415177273.py, line 2)",
     "output_type": "error",
     "traceback": [
      "\u001b[0;36m  File \u001b[0;32m\"/tmp/ipykernel_8371/3415177273.py\"\u001b[0;36m, line \u001b[0;32m2\u001b[0m\n\u001b[0;31m    biscoe = penguins[penguins.island = 'Biscoe']\u001b[0m\n\u001b[0m                                      ^\u001b[0m\n\u001b[0;31mSyntaxError\u001b[0m\u001b[0;31m:\u001b[0m invalid syntax\n"
     ]
    }
   ],
   "source": [
    "# example\n",
    "biscoe = penguins[penguins.island = 'Biscoe']\n",
    "\n",
    "biscoe['sample_column'] = 100"
   ]
  },
  {
   "cell_type": "markdown",
   "id": "ae842079-3170-4401-a495-a6c33f5f26d0",
   "metadata": {},
   "source": [
    "Essentially what we did was\n",
    "\n",
    "```python\n",
    "penguins[penguins.island = 'Biscoe']['sample_column'] = 100\n",
    "```"
   ]
  },
  {
   "cell_type": "code",
   "execution_count": 30,
   "id": "97c8b33c-96eb-4b7e-bb9a-ca46d76ea7e6",
   "metadata": {
    "tags": []
   },
   "outputs": [],
   "source": [
    "# using copy() to avoid this\n",
    "biscoe = penguins[penguins.island=='Biscoe'].copy()\n",
    "\n",
    "biscoe['sample_col'] = 100"
   ]
  },
  {
   "cell_type": "code",
   "execution_count": null,
   "id": "0d79118a-16c5-486e-845a-03ab9d8bb47d",
   "metadata": {},
   "outputs": [],
   "source": []
  }
 ],
 "metadata": {
  "kernelspec": {
   "display_name": "Anaconda 3 (Base)",
   "language": "python",
   "name": "base"
  },
  "language_info": {
   "codemirror_mode": {
    "name": "ipython",
    "version": 3
   },
   "file_extension": ".py",
   "mimetype": "text/x-python",
   "name": "python",
   "nbconvert_exporter": "python",
   "pygments_lexer": "ipython3",
   "version": "3.9.13"
  }
 },
 "nbformat": 4,
 "nbformat_minor": 5
}
